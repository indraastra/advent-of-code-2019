{
 "cells": [
  {
   "cell_type": "markdown",
   "metadata": {},
   "source": [
    "# Common imports & library functions"
   ]
  },
  {
   "cell_type": "code",
   "execution_count": 52,
   "metadata": {},
   "outputs": [],
   "source": [
    "import doctest\n",
    "import itertools\n",
    "import math"
   ]
  },
  {
   "cell_type": "markdown",
   "metadata": {},
   "source": [
    "# Day 1: The Tyranny of the Rocket Equation"
   ]
  },
  {
   "cell_type": "code",
   "execution_count": 5,
   "metadata": {},
   "outputs": [],
   "source": [
    "def fuel_requirements(mass):\n",
    "    \"\"\"\n",
    "    >>> fuel_requirements(12)\n",
    "    2\n",
    "    >>> fuel_requirements(14)\n",
    "    2\n",
    "    >>> fuel_requirements(1969)\n",
    "    654\n",
    "    >>> fuel_requirements(100756)\n",
    "    33583\n",
    "    \"\"\"\n",
    "    return mass // 3 - 2\n",
    "\n",
    "def meta_fuel_requirements(mass):\n",
    "    \"\"\"\n",
    "    >>> meta_fuel_requirements(14)\n",
    "    2\n",
    "    >>> meta_fuel_requirements(1969)\n",
    "    966\n",
    "    >>> meta_fuel_requirements(100756)\n",
    "    50346\n",
    "    \"\"\"\n",
    "    if (req := fuel_requirements(mass)) < 0:\n",
    "        return 0\n",
    "    else:\n",
    "        return req + meta_fuel_requirements(req)\n",
    "\n",
    "\n",
    "def total_fuel_requirements(masses):\n",
    "    return sum(fuel_requirements(m) for m in masses)\n",
    "\n",
    "def total_meta_fuel_requirements(masses):\n",
    "    return sum(meta_fuel_requirements(m) for m in masses)"
   ]
  },
  {
   "cell_type": "code",
   "execution_count": 6,
   "metadata": {},
   "outputs": [
    {
     "name": "stdout",
     "output_type": "stream",
     "text": [
      "Finding tests in NoName\n",
      "Trying:\n",
      "    fuel_requirements(12)\n",
      "Expecting:\n",
      "    2\n",
      "ok\n",
      "Trying:\n",
      "    fuel_requirements(14)\n",
      "Expecting:\n",
      "    2\n",
      "ok\n",
      "Trying:\n",
      "    fuel_requirements(1969)\n",
      "Expecting:\n",
      "    654\n",
      "ok\n",
      "Trying:\n",
      "    fuel_requirements(100756)\n",
      "Expecting:\n",
      "    33583\n",
      "ok\n"
     ]
    }
   ],
   "source": [
    "# Run unit tests\n",
    "doctest.run_docstring_examples(fuel_requirements, globs=None, verbose=True)"
   ]
  },
  {
   "cell_type": "code",
   "execution_count": 7,
   "metadata": {},
   "outputs": [
    {
     "name": "stdout",
     "output_type": "stream",
     "text": [
      "Finding tests in NoName\n",
      "Trying:\n",
      "    meta_fuel_requirements(14)\n",
      "Expecting:\n",
      "    2\n",
      "ok\n",
      "Trying:\n",
      "    meta_fuel_requirements(1969)\n",
      "Expecting:\n",
      "    966\n",
      "ok\n",
      "Trying:\n",
      "    meta_fuel_requirements(100756)\n",
      "Expecting:\n",
      "    50346\n",
      "ok\n"
     ]
    }
   ],
   "source": [
    "# Run unit tests\n",
    "doctest.run_docstring_examples(meta_fuel_requirements, globs=None, verbose=True)"
   ]
  },
  {
   "cell_type": "code",
   "execution_count": 8,
   "metadata": {},
   "outputs": [
    {
     "name": "stdout",
     "output_type": "stream",
     "text": [
      "Part 1:  3152375\n",
      "Part 2:  4725720\n"
     ]
    }
   ],
   "source": [
    "# Final answers\n",
    "with open('day1_input.txt') as f:\n",
    "    values = [int(l.strip()) for l in f]\n",
    "    print('Part 1: ', total_fuel_requirements(values))\n",
    "    print('Part 2: ', total_meta_fuel_requirements(values))"
   ]
  },
  {
   "cell_type": "markdown",
   "metadata": {},
   "source": [
    "# Day 2: 1202 Program Alarm"
   ]
  },
  {
   "cell_type": "code",
   "execution_count": 88,
   "metadata": {},
   "outputs": [],
   "source": [
    "class Opcode:\n",
    "    ADD = 1\n",
    "    MULT = 2\n",
    "    HALT = 99\n",
    "\n",
    "def execute(program, ip=0):\n",
    "    \"\"\"\n",
    "    >>> execute([1,0,0,0,99])\n",
    "    [2, 0, 0, 0, 99]\n",
    "    >>> execute([1,1,1,4,99,5,6,0,99])\n",
    "    [30, 1, 1, 4, 2, 5, 6, 0, 99]\n",
    "    \"\"\"\n",
    "    memory = program[:]\n",
    "    while ip < len(memory):\n",
    "        if memory[ip] == Opcode.HALT:\n",
    "            return memory\n",
    "        \n",
    "        src_a, src_b, dst = memory[ip+1:ip+4]\n",
    "        if memory[ip] == Opcode.ADD:\n",
    "            memory[dst] = memory[src_a] + memory[src_b]\n",
    "        elif memory[ip] == Opcode.MULT:\n",
    "            memory[dst] = memory[src_a] * memory[src_b]\n",
    "        else:\n",
    "            raise Exception('Invalid opcode: {}'.format(memory[ip]))\n",
    "        ip += 4\n",
    "    raise Exception('Execution terminated without halt instruction')\n",
    "    \n",
    "def find_noun_verb_pair(program, expected_output):\n",
    "    for (noun, verb) in itertools.product(range(100), range(100)):\n",
    "        program[1] = noun\n",
    "        program[2] = verb\n",
    "        if execute(program)[0] == expected_output:\n",
    "            return '{:02}{:02}'.format(noun, verb)"
   ]
  },
  {
   "cell_type": "code",
   "execution_count": 89,
   "metadata": {},
   "outputs": [
    {
     "name": "stdout",
     "output_type": "stream",
     "text": [
      "Finding tests in NoName\n",
      "Trying:\n",
      "    execute([1,0,0,0,99])\n",
      "Expecting:\n",
      "    [2, 0, 0, 0, 99]\n",
      "ok\n",
      "Trying:\n",
      "    execute([1,1,1,4,99,5,6,0,99])\n",
      "Expecting:\n",
      "    [30, 1, 1, 4, 2, 5, 6, 0, 99]\n",
      "ok\n"
     ]
    }
   ],
   "source": [
    "# Run unit tests\n",
    "doctest.run_docstring_examples(execute, globs=None, verbose=True)"
   ]
  },
  {
   "cell_type": "code",
   "execution_count": 93,
   "metadata": {},
   "outputs": [
    {
     "name": "stdout",
     "output_type": "stream",
     "text": [
      "Passed!\n"
     ]
    }
   ],
   "source": [
    "# Run integration test\n",
    "with open('day2_input.txt') as f:\n",
    "    values = [int(l) for l in f.read().split(',')]\n",
    "    actual = find_noun_verb_pair(values, 5110675)\n",
    "    if actual != '1202':\n",
    "        print('Failed! Got {}'.format(actual))\n",
    "    else:\n",
    "        print('Passed!')"
   ]
  },
  {
   "cell_type": "code",
   "execution_count": 95,
   "metadata": {},
   "outputs": [
    {
     "name": "stdout",
     "output_type": "stream",
     "text": [
      "Part 1:  [5110675, 12, 2, 2, 1, 1, 2, 3, 1, 3, 4, 3, 1, 5, 0, 3, 2, 9, 1, 36, 1, 5, 19, 37, 2, 9, 23, 111, 1, 27, 5, 112, 2, 31, 13, 560, 1, 35, 9, 563, 1, 39, 10, 567, 2, 43, 9, 1701, 1, 47, 5, 1702, 2, 13, 51, 8510, 1, 9, 55, 8513, 1, 5, 59, 8514, 2, 6, 63, 17028, 1, 5, 67, 17029, 1, 6, 71, 17031, 2, 9, 75, 51093, 1, 79, 13, 51098, 1, 83, 13, 51103, 1, 87, 5, 51104, 1, 6, 91, 51106, 2, 95, 13, 255530, 2, 13, 99, 1277650, 1, 5, 103, 1277651, 1, 107, 10, 1277655, 1, 111, 13, 1277660, 1, 10, 115, 1277664, 1, 9, 119, 1277667, 2, 6, 123, 2555334, 1, 5, 127, 2555335, 2, 6, 131, 5110670, 1, 135, 2, 5110672, 1, 139, 9, 0, 99, 2, 14, 0, 0]\n",
      "Part 2:  4847\n"
     ]
    }
   ],
   "source": [
    "# Final answers\n",
    "with open('day2_input.txt') as f:\n",
    "    values = [int(l) for l in f.read().split(',')]\n",
    "    # Restore to 1202 state:\n",
    "    values[1] = 12\n",
    "    values[2] = 2\n",
    "    print('Part 1: ', execute(values))\n",
    "    print('Part 2: ', find_noun_verb_pair(values, 19690720))"
   ]
  },
  {
   "cell_type": "markdown",
   "metadata": {},
   "source": [
    "# Day 3: Crossed Wires"
   ]
  },
  {
   "cell_type": "code",
   "execution_count": 127,
   "metadata": {},
   "outputs": [],
   "source": [
    "DELTAS = {\n",
    "    'R': (1, 0),\n",
    "    'L': (-1, 0),\n",
    "    'U': (0, 1),\n",
    "    'D': (0, -1),\n",
    "}\n",
    "ORIGIN = (0, 0)\n",
    "\n",
    "def move(pos, direction):\n",
    "    return (pos[0] + DELTAS[direction][0],\n",
    "            pos[1] + DELTAS[direction][1])\n",
    "\n",
    "def dist(pos):\n",
    "    return sum(abs(c) for c in pos)\n",
    "\n",
    "def segment_coordinates(pos, segment):\n",
    "    \"\"\"\n",
    "    >>> segment_coordinates((0, 0), 'R2')\n",
    "    [(1, 0), (2, 0)]\n",
    "    >>> segment_coordinates((-1, 2), 'D2')\n",
    "    [(-1, 1), (-1, 0)]\n",
    "    \"\"\"\n",
    "    coords = []\n",
    "    direction, steps = segment[0], int(segment[1:])\n",
    "    for _ in range(steps):\n",
    "        coords.append(move(pos, direction))\n",
    "        pos = coords[-1]\n",
    "    return coords\n",
    "\n",
    "def wire_coordinates(wire_segments):\n",
    "    \"\"\"\n",
    "    >>> wire_coordinates(['R2', 'U2'])\n",
    "    [(0, 0), (1, 0), (2, 0), (2, 1), (2, 2)]\n",
    "    >>> wire_coordinates(['R1', 'U1', 'L1', 'D1'])\n",
    "    [(0, 0), (1, 0), (1, 1), (0, 1), (0, 0)]\n",
    "    \"\"\"\n",
    "    pos = (0, 0)\n",
    "    coords = [pos]\n",
    "    for segment in wire_segments:\n",
    "        coords.extend(segment_coordinates(pos, segment))\n",
    "        pos = coords[-1]\n",
    "    return coords\n",
    "\n",
    "def closest_crossing_naive(wire1, wire2):\n",
    "    \"\"\"\n",
    "    >>> wire1 = ['R75','D30','R83','U83','L12','D49','R71','U7','L72']\n",
    "    >>> wire2 = ['U62','R66','U55','R34','D71','R55','D58','R83']\n",
    "    >>> closest_crossing_naive(wire1, wire2)\n",
    "    159\n",
    "    >>>\n",
    "    >>> wire1 = 'R98,U47,R26,D63,R33,U87,L62,D20,R33,U53,R51'.split(',')\n",
    "    >>> wire2 = 'U98,R91,D20,R16,D67,R40,U7,R15,U6,R7'.split(',')\n",
    "    >>> closest_crossing_naive(wire1, wire2)\n",
    "    135\n",
    "    \"\"\"\n",
    "    coords1 = set(wire_coordinates(wire1))\n",
    "    coords2 = set(wire_coordinates(wire2))\n",
    "    coords1.remove(ORIGIN)\n",
    "    coords2.remove(ORIGIN)\n",
    "    return dist(min(coords1 & coords2, key=dist))\n",
    "\n",
    "def least_delay_crossing(wire1, wire2):\n",
    "    \"\"\"\n",
    "    >>> wire1 = ['R75','D30','R83','U83','L12','D49','R71','U7','L72']\n",
    "    >>> wire2 = ['U62','R66','U55','R34','D71','R55','D58','R83']\n",
    "    >>> least_delay_crossing(wire1, wire2)\n",
    "    610\n",
    "    >>>\n",
    "    >>> wire1 = 'R98,U47,R26,D63,R33,U87,L62,D20,R33,U53,R51'.split(',')\n",
    "    >>> wire2 = 'U98,R91,D20,R16,D67,R40,U7,R15,U6,R7'.split(',')\n",
    "    >>> least_delay_crossing(wire1, wire2)\n",
    "    410\n",
    "    \"\"\"\n",
    "    delays1 = {coord: delay for (delay, coord) in enumerate(wire_coordinates(wire1))}\n",
    "    delays2 = {coord: delay for (delay, coord) in enumerate(wire_coordinates(wire2))}\n",
    "    del delays1[ORIGIN]\n",
    "    del delays2[ORIGIN]\n",
    "    delay_fn = lambda coord: delays1[coord] + delays2[coord]\n",
    "    return delay_fn(min(set(delays1.keys()) & set(delays2.keys()), key=delay_fn))"
   ]
  },
  {
   "cell_type": "code",
   "execution_count": 128,
   "metadata": {},
   "outputs": [
    {
     "name": "stdout",
     "output_type": "stream",
     "text": [
      "Finding tests in NoName\n",
      "Trying:\n",
      "    segment_coordinates((0, 0), 'R2')\n",
      "Expecting:\n",
      "    [(1, 0), (2, 0)]\n",
      "ok\n",
      "Trying:\n",
      "    segment_coordinates((-1, 2), 'D2')\n",
      "Expecting:\n",
      "    [(-1, 1), (-1, 0)]\n",
      "ok\n",
      "Finding tests in NoName\n",
      "Trying:\n",
      "    wire_coordinates(['R2', 'U2'])\n",
      "Expecting:\n",
      "    [(0, 0), (1, 0), (2, 0), (2, 1), (2, 2)]\n",
      "ok\n",
      "Trying:\n",
      "    wire_coordinates(['R1', 'U1', 'L1', 'D1'])\n",
      "Expecting:\n",
      "    [(0, 0), (1, 0), (1, 1), (0, 1), (0, 0)]\n",
      "ok\n",
      "Finding tests in NoName\n",
      "Trying:\n",
      "    wire1 = ['R75','D30','R83','U83','L12','D49','R71','U7','L72']\n",
      "Expecting nothing\n",
      "ok\n",
      "Trying:\n",
      "    wire2 = ['U62','R66','U55','R34','D71','R55','D58','R83']\n",
      "Expecting nothing\n",
      "ok\n",
      "Trying:\n",
      "    closest_crossing_naive(wire1, wire2)\n",
      "Expecting:\n",
      "    159\n",
      "ok\n",
      "Trying:\n",
      "    wire1 = 'R98,U47,R26,D63,R33,U87,L62,D20,R33,U53,R51'.split(',')\n",
      "Expecting nothing\n",
      "ok\n",
      "Trying:\n",
      "    wire2 = 'U98,R91,D20,R16,D67,R40,U7,R15,U6,R7'.split(',')\n",
      "Expecting nothing\n",
      "ok\n",
      "Trying:\n",
      "    closest_crossing_naive(wire1, wire2)\n",
      "Expecting:\n",
      "    135\n",
      "ok\n",
      "Finding tests in NoName\n",
      "Trying:\n",
      "    wire1 = ['R75','D30','R83','U83','L12','D49','R71','U7','L72']\n",
      "Expecting nothing\n",
      "ok\n",
      "Trying:\n",
      "    wire2 = ['U62','R66','U55','R34','D71','R55','D58','R83']\n",
      "Expecting nothing\n",
      "ok\n",
      "Trying:\n",
      "    least_delay_crossing(wire1, wire2)\n",
      "Expecting:\n",
      "    610\n",
      "ok\n",
      "Trying:\n",
      "    wire1 = 'R98,U47,R26,D63,R33,U87,L62,D20,R33,U53,R51'.split(',')\n",
      "Expecting nothing\n",
      "ok\n",
      "Trying:\n",
      "    wire2 = 'U98,R91,D20,R16,D67,R40,U7,R15,U6,R7'.split(',')\n",
      "Expecting nothing\n",
      "ok\n",
      "Trying:\n",
      "    least_delay_crossing(wire1, wire2)\n",
      "Expecting:\n",
      "    410\n",
      "ok\n"
     ]
    }
   ],
   "source": [
    "# Run unit tests\n",
    "doctest.run_docstring_examples(segment_coordinates, globs=None, verbose=True)\n",
    "doctest.run_docstring_examples(wire_coordinates, globs=None, verbose=True)\n",
    "doctest.run_docstring_examples(closest_crossing_naive, globs=None, verbose=True)\n",
    "doctest.run_docstring_examples(least_delay_crossing, globs=None, verbose=True)"
   ]
  },
  {
   "cell_type": "code",
   "execution_count": 129,
   "metadata": {},
   "outputs": [
    {
     "name": "stdout",
     "output_type": "stream",
     "text": [
      "Part 1:  308\n",
      "Part 2:  12934\n"
     ]
    }
   ],
   "source": [
    "# Final answers\n",
    "with open('day3_input.txt') as f:\n",
    "    wires = f.readlines()\n",
    "    wire1 = wires[0].split(',')\n",
    "    wire2 = wires[1].split(',')\n",
    "    print('Part 1: ', closest_crossing_naive(wire1, wire2))\n",
    "    print('Part 2: ', least_delay_crossing(wire1, wire2))"
   ]
  },
  {
   "cell_type": "markdown",
   "metadata": {},
   "source": [
    "# Day 4: Secure Container"
   ]
  },
  {
   "cell_type": "code",
   "execution_count": 196,
   "metadata": {},
   "outputs": [],
   "source": [
    "from collections import Counter\n",
    "\n",
    "def password_increment(digits):\n",
    "    \"\"\"\n",
    "    >>> password_increment('13')\n",
    "    '14'\n",
    "    >>> password_increment('399')\n",
    "    '444'\n",
    "    >>> password_increment('999')\n",
    "    '1111'\n",
    "    \"\"\"\n",
    "    digits = str(int(digits) + 1)\n",
    "    if \"0\" not in digits:\n",
    "        return digits\n",
    "    pos = digits.index(\"0\")\n",
    "    pad = len(digits) - pos\n",
    "    return digits[:pos] + digits[pos-1] * pad\n",
    "\n",
    "def is_increasing(digits):\n",
    "    \"\"\"\n",
    "    >>> is_increasing('123')\n",
    "    True\n",
    "    >>> is_increasing('231')\n",
    "    False\n",
    "    \"\"\"\n",
    "    return sorted(digits) == list(digits)\n",
    "\n",
    "def has_repeat(digits):\n",
    "    \"\"\"\n",
    "    >>> has_repeat('122')\n",
    "    True\n",
    "    >>> has_repeat('123')\n",
    "    False\n",
    "    >>> has_repeat('333')\n",
    "    True\n",
    "    >>> has_repeat('3333')\n",
    "    True\n",
    "    \"\"\"\n",
    "    return any(c > 1 for c in Counter(digits).values())\n",
    "\n",
    "def has_even_repeat(digits):\n",
    "    \"\"\"\n",
    "    >>> has_even_repeat('122')\n",
    "    True\n",
    "    >>> has_even_repeat('123')\n",
    "    False\n",
    "    >>> has_even_repeat('33311')\n",
    "    True\n",
    "    >>> has_even_repeat('333311')\n",
    "    True\n",
    "    \"\"\"\n",
    "    return any(c == 2 for c in Counter(digits).values())\n",
    "\n",
    "def is_valid1(digits):\n",
    "    \"\"\"\n",
    "    >>> is_valid1('123')\n",
    "    False\n",
    "    >>> is_valid1('1122')\n",
    "    True\n",
    "    >>> is_valid1('111')\n",
    "    True\n",
    "    \"\"\"\n",
    "    return is_increasing(digits) and has_repeat(digits)\n",
    "\n",
    "def is_valid2(digits):\n",
    "    \"\"\"\n",
    "    >>> is_valid2('123')\n",
    "    False\n",
    "    >>> is_valid2('1122')\n",
    "    True\n",
    "    >>> is_valid2('111')\n",
    "    False\n",
    "    \"\"\"\n",
    "    return is_increasing(digits) and has_even_repeat(digits)\n",
    "\n",
    "def next_valid_password(digits, filter=is_valid1):\n",
    "    \"\"\"\n",
    "    >>> next_valid_password('111')\n",
    "    '111'\n",
    "    >>> next_valid_password('911')\n",
    "    '999'\n",
    "    \"\"\"\n",
    "    while not filter(digits):\n",
    "        digits = str(int(digits) + 1)\n",
    "    return digits\n",
    "\n",
    "def password_generator(start, end, filter=is_valid1):\n",
    "    \"\"\"\n",
    "    >>> a = set(password_generator('11', '99'))\n",
    "    >>> '44' in a\n",
    "    True\n",
    "    >>> '94' in a\n",
    "    False\n",
    "    \"\"\"\n",
    "    password = next_valid_password(start, filter)\n",
    "    while int(password) <= int(end):\n",
    "        if filter(password): yield password\n",
    "        password = password_increment(password)\n",
    "\n",
    "def num_passwords(start, end, filter=is_valid1):\n",
    "    count = 0\n",
    "    for _ in password_generator(start, end, filter=filter):\n",
    "        count += 1\n",
    "    return count"
   ]
  },
  {
   "cell_type": "code",
   "execution_count": 197,
   "metadata": {},
   "outputs": [
    {
     "name": "stdout",
     "output_type": "stream",
     "text": [
      "Finding tests in NoName\n",
      "Trying:\n",
      "    password_increment('13')\n",
      "Expecting:\n",
      "    '14'\n",
      "ok\n",
      "Trying:\n",
      "    password_increment('399')\n",
      "Expecting:\n",
      "    '444'\n",
      "ok\n",
      "Trying:\n",
      "    password_increment('999')\n",
      "Expecting:\n",
      "    '1111'\n",
      "ok\n",
      "Finding tests in NoName\n",
      "Trying:\n",
      "    is_increasing('123')\n",
      "Expecting:\n",
      "    True\n",
      "ok\n",
      "Trying:\n",
      "    is_increasing('231')\n",
      "Expecting:\n",
      "    False\n",
      "ok\n",
      "Finding tests in NoName\n",
      "Trying:\n",
      "    next_valid_password('111')\n",
      "Expecting:\n",
      "    '111'\n",
      "ok\n",
      "Trying:\n",
      "    next_valid_password('911')\n",
      "Expecting:\n",
      "    '999'\n",
      "ok\n",
      "Finding tests in NoName\n",
      "Trying:\n",
      "    has_repeat('122')\n",
      "Expecting:\n",
      "    True\n",
      "ok\n",
      "Trying:\n",
      "    has_repeat('123')\n",
      "Expecting:\n",
      "    False\n",
      "ok\n",
      "Trying:\n",
      "    has_repeat('333')\n",
      "Expecting:\n",
      "    True\n",
      "ok\n",
      "Trying:\n",
      "    has_repeat('3333')\n",
      "Expecting:\n",
      "    True\n",
      "ok\n",
      "Finding tests in NoName\n",
      "Trying:\n",
      "    has_even_repeat('122')\n",
      "Expecting:\n",
      "    True\n",
      "ok\n",
      "Trying:\n",
      "    has_even_repeat('123')\n",
      "Expecting:\n",
      "    False\n",
      "ok\n",
      "Trying:\n",
      "    has_even_repeat('33311')\n",
      "Expecting:\n",
      "    True\n",
      "ok\n",
      "Trying:\n",
      "    has_even_repeat('333311')\n",
      "Expecting:\n",
      "    True\n",
      "ok\n",
      "Finding tests in NoName\n",
      "Trying:\n",
      "    is_valid1('123')\n",
      "Expecting:\n",
      "    False\n",
      "ok\n",
      "Trying:\n",
      "    is_valid1('1122')\n",
      "Expecting:\n",
      "    True\n",
      "ok\n",
      "Trying:\n",
      "    is_valid1('111')\n",
      "Expecting:\n",
      "    True\n",
      "ok\n",
      "Finding tests in NoName\n",
      "Trying:\n",
      "    is_valid2('123')\n",
      "Expecting:\n",
      "    False\n",
      "ok\n",
      "Trying:\n",
      "    is_valid2('1122')\n",
      "Expecting:\n",
      "    True\n",
      "ok\n",
      "Trying:\n",
      "    is_valid2('111')\n",
      "Expecting:\n",
      "    False\n",
      "ok\n",
      "Finding tests in NoName\n",
      "Trying:\n",
      "    a = set(password_generator('11', '99'))\n",
      "Expecting nothing\n",
      "ok\n",
      "Trying:\n",
      "    '44' in a\n",
      "Expecting:\n",
      "    True\n",
      "ok\n",
      "Trying:\n",
      "    '94' in a\n",
      "Expecting:\n",
      "    False\n",
      "ok\n"
     ]
    }
   ],
   "source": [
    "# Run unit tests\n",
    "doctest.run_docstring_examples(password_increment, globs=None, verbose=True)\n",
    "doctest.run_docstring_examples(is_increasing, globs=None, verbose=True)\n",
    "doctest.run_docstring_examples(next_valid_password, globs=None, verbose=True)\n",
    "doctest.run_docstring_examples(has_repeat, globs=None, verbose=True)\n",
    "doctest.run_docstring_examples(has_even_repeat, globs=None, verbose=True)\n",
    "doctest.run_docstring_examples(is_valid1, globs=None, verbose=True)\n",
    "doctest.run_docstring_examples(is_valid2, globs=None, verbose=True)\n",
    "doctest.run_docstring_examples(password_generator, globs=None, verbose=True)"
   ]
  },
  {
   "cell_type": "code",
   "execution_count": 199,
   "metadata": {},
   "outputs": [
    {
     "name": "stdout",
     "output_type": "stream",
     "text": [
      "Part 1:  1675\n",
      "Part 2:  1142\n"
     ]
    }
   ],
   "source": [
    "# Final answers\n",
    "print('Part 1: ', num_passwords('172930', '683082', filter=is_valid1))\n",
    "print('Part 2: ', num_passwords('172930', '683082', filter=is_valid2))"
   ]
  },
  {
   "cell_type": "markdown",
   "metadata": {},
   "source": [
    "# Day 5: Sunny with a Chance of Asteroids"
   ]
  },
  {
   "cell_type": "code",
   "execution_count": 321,
   "metadata": {},
   "outputs": [],
   "source": [
    "# Moved to intcode.py\n",
    "from intcode import *"
   ]
  },
  {
   "cell_type": "code",
   "execution_count": 322,
   "metadata": {},
   "outputs": [
    {
     "name": "stdout",
     "output_type": "stream",
     "text": [
      "Finding tests in NoName\n",
      "Trying:\n",
      "    parse(2)\n",
      "Expecting:\n",
      "    (2, 0, 0, 0)\n",
      "ok\n",
      "Trying:\n",
      "    parse(1002)\n",
      "Expecting:\n",
      "    (2, 0, 1, 0)\n",
      "ok\n",
      "Trying:\n",
      "    parse(11199)\n",
      "Expecting:\n",
      "    (99, 1, 1, 1)\n",
      "ok\n",
      "Finding tests in NoName\n",
      "Trying:\n",
      "    execute([1,0,0,0,99])\n",
      "Expecting:\n",
      "    [2, 0, 0, 0, 99]\n",
      "ok\n",
      "Trying:\n",
      "    execute([1,1,1,4,99,5,6,0,99])\n",
      "Expecting:\n",
      "    [30, 1, 1, 4, 2, 5, 6, 0, 99]\n",
      "ok\n",
      "Trying:\n",
      "    execute([1002,4,3,4,33])\n",
      "Expecting:\n",
      "    [1002, 4, 3, 4, 99]\n",
      "ok\n"
     ]
    }
   ],
   "source": [
    "# Run unit tests\n",
    "doctest.run_docstring_examples(parse, globs=None, verbose=True)\n",
    "doctest.run_docstring_examples(execute, globs=None, verbose=True)"
   ]
  },
  {
   "cell_type": "code",
   "execution_count": 323,
   "metadata": {},
   "outputs": [
    {
     "name": "stdout",
     "output_type": "stream",
     "text": [
      "I> 10\n",
      "O> 1001\n"
     ]
    }
   ],
   "source": [
    "# Integration test:\n",
    "# The above example program uses an input instruction to ask for a single number. \n",
    "# The program will then output 999 if the input value is below 8,\n",
    "# output 1000 if the input value is equal to 8,\n",
    "# or output 1001 if the input value is greater than 8.\n",
    "program = [\n",
    "    3,21,1008,21,8,20,1005,20,22,107,8,21,20,1006,20,31,\n",
    "    1106,0,36,98,0,0,1002,21,125,20,4,20,1105,1,46,104,\n",
    "    999,1105,1,46,1101,1000,1,20,4,20,1105,1,46,98,99\n",
    "]\n",
    "memory = execute(program)"
   ]
  },
  {
   "cell_type": "code",
   "execution_count": 317,
   "metadata": {},
   "outputs": [
    {
     "name": "stdout",
     "output_type": "stream",
     "text": [
      "Part 1: (input 1)\n",
      "1\n",
      "> 0\n",
      "> 0\n",
      "> 0\n",
      "> 0\n",
      "> 0\n",
      "> 0\n",
      "> 0\n",
      "> 0\n",
      "> 0\n",
      "> 6761139\n",
      "Part 2: (input 5)\n",
      "5\n",
      "> 9217546\n"
     ]
    }
   ],
   "source": [
    "# Final answers\n",
    "with open('day5_input.txt') as f:\n",
    "    program = parse_program(f.read())\n",
    "    print('Part 1: (input 1)')\n",
    "    execute(program)\n",
    "    print('Part 2: (input 5)')\n",
    "    execute(program)"
   ]
  },
  {
   "cell_type": "code",
   "execution_count": null,
   "metadata": {},
   "outputs": [],
   "source": []
  }
 ],
 "metadata": {
  "kernelspec": {
   "display_name": "Python 3",
   "language": "python",
   "name": "python3"
  },
  "language_info": {
   "codemirror_mode": {
    "name": "ipython",
    "version": 3
   },
   "file_extension": ".py",
   "mimetype": "text/x-python",
   "name": "python",
   "nbconvert_exporter": "python",
   "pygments_lexer": "ipython3",
   "version": "3.8.3"
  }
 },
 "nbformat": 4,
 "nbformat_minor": 4
}
