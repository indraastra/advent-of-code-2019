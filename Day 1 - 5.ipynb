{
 "cells": [
  {
   "cell_type": "markdown",
   "metadata": {},
   "source": [
    "# Common imports & library functions"
   ]
  },
  {
   "cell_type": "code",
   "execution_count": 4,
   "metadata": {},
   "outputs": [],
   "source": [
    "import doctest\n",
    "import math"
   ]
  },
  {
   "cell_type": "markdown",
   "metadata": {},
   "source": [
    "# Day 1: The Tyranny of the Rocket Equation"
   ]
  },
  {
   "cell_type": "code",
   "execution_count": 5,
   "metadata": {},
   "outputs": [],
   "source": [
    "def fuel_requirements(mass):\n",
    "    \"\"\"\n",
    "    >>> fuel_requirements(12)\n",
    "    2\n",
    "    >>> fuel_requirements(14)\n",
    "    2\n",
    "    >>> fuel_requirements(1969)\n",
    "    654\n",
    "    >>> fuel_requirements(100756)\n",
    "    33583\n",
    "    \"\"\"\n",
    "    return mass // 3 - 2\n",
    "\n",
    "def meta_fuel_requirements(mass):\n",
    "    \"\"\"\n",
    "    >>> meta_fuel_requirements(14)\n",
    "    2\n",
    "    >>> meta_fuel_requirements(1969)\n",
    "    966\n",
    "    >>> meta_fuel_requirements(100756)\n",
    "    50346\n",
    "    \"\"\"\n",
    "    if (req := fuel_requirements(mass)) < 0:\n",
    "        return 0\n",
    "    else:\n",
    "        return req + meta_fuel_requirements(req)\n",
    "\n",
    "\n",
    "def total_fuel_requirements(masses):\n",
    "    return sum(fuel_requirements(m) for m in masses)\n",
    "\n",
    "def total_meta_fuel_requirements(masses):\n",
    "    return sum(meta_fuel_requirements(m) for m in masses)"
   ]
  },
  {
   "cell_type": "code",
   "execution_count": 6,
   "metadata": {},
   "outputs": [
    {
     "name": "stdout",
     "output_type": "stream",
     "text": [
      "Finding tests in NoName\n",
      "Trying:\n",
      "    fuel_requirements(12)\n",
      "Expecting:\n",
      "    2\n",
      "ok\n",
      "Trying:\n",
      "    fuel_requirements(14)\n",
      "Expecting:\n",
      "    2\n",
      "ok\n",
      "Trying:\n",
      "    fuel_requirements(1969)\n",
      "Expecting:\n",
      "    654\n",
      "ok\n",
      "Trying:\n",
      "    fuel_requirements(100756)\n",
      "Expecting:\n",
      "    33583\n",
      "ok\n"
     ]
    }
   ],
   "source": [
    "# Run unit tests\n",
    "doctest.run_docstring_examples(fuel_requirements, globs=None, verbose=True)"
   ]
  },
  {
   "cell_type": "code",
   "execution_count": 7,
   "metadata": {},
   "outputs": [
    {
     "name": "stdout",
     "output_type": "stream",
     "text": [
      "Finding tests in NoName\n",
      "Trying:\n",
      "    meta_fuel_requirements(14)\n",
      "Expecting:\n",
      "    2\n",
      "ok\n",
      "Trying:\n",
      "    meta_fuel_requirements(1969)\n",
      "Expecting:\n",
      "    966\n",
      "ok\n",
      "Trying:\n",
      "    meta_fuel_requirements(100756)\n",
      "Expecting:\n",
      "    50346\n",
      "ok\n"
     ]
    }
   ],
   "source": [
    "# Run unit tests\n",
    "doctest.run_docstring_examples(meta_fuel_requirements, globs=None, verbose=True)"
   ]
  },
  {
   "cell_type": "code",
   "execution_count": 8,
   "metadata": {},
   "outputs": [
    {
     "name": "stdout",
     "output_type": "stream",
     "text": [
      "Part 1:  3152375\n",
      "Part 2:  4725720\n"
     ]
    }
   ],
   "source": [
    "# Final answers\n",
    "with open('day1_input.txt') as f:\n",
    "    values = [int(l.strip()) for l in f]\n",
    "    print('Part 1: ', total_fuel_requirements(values))\n",
    "    print('Part 2: ', total_meta_fuel_requirements(values))"
   ]
  },
  {
   "cell_type": "markdown",
   "metadata": {},
   "source": [
    "# Day 2: 1202 Program Alarm"
   ]
  },
  {
   "cell_type": "code",
   "execution_count": 35,
   "metadata": {},
   "outputs": [],
   "source": [
    "class Opcode:\n",
    "    ADD = 1\n",
    "    MULT = 2\n",
    "    HALT = 99\n",
    "\n",
    "def execute(program, pc=0):\n",
    "    \"\"\"\n",
    "    >>> execute([1,0,0,0,99])\n",
    "    [2, 0, 0, 0, 99]\n",
    "    >>> execute([1,1,1,4,99,5,6,0,99])\n",
    "    [30, 1, 1, 4, 2, 5, 6, 0, 99]\n",
    "    \"\"\"\n",
    "    while pc < len(program):\n",
    "        if program[pc] == Opcode.HALT:\n",
    "            return program\n",
    "        \n",
    "        src_a, src_b, dst = program[pc+1:pc+4]\n",
    "        if program[pc] == Opcode.ADD:\n",
    "            program[dst] = program[src_a] + program[src_b]\n",
    "        elif program[pc] == Opcode.MULT:\n",
    "            program[dst] = program[src_a] * program[src_b]\n",
    "        else:\n",
    "            raise Exception('Invalid opcode: {}'.format(program[pc]))\n",
    "        pc += 4\n",
    "    raise Exception('Execution terminated without halt instruction')"
   ]
  },
  {
   "cell_type": "code",
   "execution_count": 36,
   "metadata": {},
   "outputs": [
    {
     "name": "stdout",
     "output_type": "stream",
     "text": [
      "Finding tests in NoName\n",
      "Trying:\n",
      "    execute([1,0,0,0,99])\n",
      "Expecting:\n",
      "    [2, 0, 0, 0, 99]\n",
      "ok\n",
      "Trying:\n",
      "    execute([1,1,1,4,99,5,6,0,99])\n",
      "Expecting:\n",
      "    [30, 1, 1, 4, 2, 5, 6, 0, 99]\n",
      "ok\n"
     ]
    }
   ],
   "source": [
    "# Run unit tests\n",
    "doctest.run_docstring_examples(execute, globs=None, verbose=True)"
   ]
  },
  {
   "cell_type": "code",
   "execution_count": 44,
   "metadata": {},
   "outputs": [
    {
     "name": "stdout",
     "output_type": "stream",
     "text": [
      "Part 1:  [5110675, 12, 2, 2, 1, 1, 2, 3, 1, 3, 4, 3, 1, 5, 0, 3, 2, 9, 1, 36, 1, 5, 19, 37, 2, 9, 23, 111, 1, 27, 5, 112, 2, 31, 13, 560, 1, 35, 9, 563, 1, 39, 10, 567, 2, 43, 9, 1701, 1, 47, 5, 1702, 2, 13, 51, 8510, 1, 9, 55, 8513, 1, 5, 59, 8514, 2, 6, 63, 17028, 1, 5, 67, 17029, 1, 6, 71, 17031, 2, 9, 75, 51093, 1, 79, 13, 51098, 1, 83, 13, 51103, 1, 87, 5, 51104, 1, 6, 91, 51106, 2, 95, 13, 255530, 2, 13, 99, 1277650, 1, 5, 103, 1277651, 1, 107, 10, 1277655, 1, 111, 13, 1277660, 1, 10, 115, 1277664, 1, 9, 119, 1277667, 2, 6, 123, 2555334, 1, 5, 127, 2555335, 2, 6, 131, 5110670, 1, 135, 2, 5110672, 1, 139, 9, 0, 99, 2, 14, 0, 0]\n"
     ]
    }
   ],
   "source": [
    "# Final answers\n",
    "with open('day2_input.txt') as f:\n",
    "    values = [int(l) for l in f.read().split(',')]\n",
    "    # Restore to 1202 state:\n",
    "    values[1] = 12\n",
    "    values[2] = 2\n",
    "    print('Part 1: ', execute(values))"
   ]
  },
  {
   "cell_type": "code",
   "execution_count": null,
   "metadata": {},
   "outputs": [],
   "source": []
  }
 ],
 "metadata": {
  "kernelspec": {
   "display_name": "Python 3",
   "language": "python",
   "name": "python3"
  },
  "language_info": {
   "codemirror_mode": {
    "name": "ipython",
    "version": 3
   },
   "file_extension": ".py",
   "mimetype": "text/x-python",
   "name": "python",
   "nbconvert_exporter": "python",
   "pygments_lexer": "ipython3",
   "version": "3.8.0"
  }
 },
 "nbformat": 4,
 "nbformat_minor": 2
}
