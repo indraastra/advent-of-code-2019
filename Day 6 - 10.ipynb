{
 "cells": [
  {
   "cell_type": "markdown",
   "metadata": {},
   "source": [
    "# Common imports & library functions"
   ]
  },
  {
   "cell_type": "code",
   "execution_count": 23,
   "metadata": {},
   "outputs": [],
   "source": [
    "import doctest\n",
    "import itertools\n",
    "import math\n",
    "from collections import defaultdict"
   ]
  },
  {
   "cell_type": "markdown",
   "metadata": {},
   "source": [
    "# Day 6: Universal Orbit Map"
   ]
  },
  {
   "cell_type": "code",
   "execution_count": 61,
   "metadata": {},
   "outputs": [],
   "source": [
    "COM = 'COM'\n",
    "YOU = 'YOU'\n",
    "SAN = 'SAN'\n",
    "\n",
    "def orbit_count_checksum(map):\n",
    "    \"\"\"\n",
    "    >>> orbit_count_checksum('COM)B\\\\nB)C\\\\nC)D')\n",
    "    6\n",
    "    \"\"\"\n",
    "    children = defaultdict(set)\n",
    "    for edge in map.split():\n",
    "        p, c = edge.split(')')\n",
    "        children[p].add(c)\n",
    "    levels = {COM: 0}\n",
    "    to_visit = {COM}\n",
    "    while to_visit:\n",
    "        p = to_visit.pop()\n",
    "        for c in children[p]:\n",
    "            levels[c] = levels[p] + 1\n",
    "            to_visit.add(c)\n",
    "    return sum(levels.values())\n",
    "\n",
    "def num_orbital_transfers(map, source=YOU, target=SAN):\n",
    "    parents = {COM: None}\n",
    "    for edge in map.split():\n",
    "        p, c = edge.split(')')\n",
    "        parents[c] = p\n",
    "    def path_to(node):\n",
    "        if not node:\n",
    "            return []\n",
    "        return path_to(parents[node]) + [node]\n",
    "    source_path = path_to(source)\n",
    "    target_path = path_to(target)\n",
    "    in_common = len(list(itertools.takewhile(\n",
    "        lambda p: p[0] == p[1], zip(source_path, target_path))))\n",
    "    return len(source_path[in_common:]) + len(target_path[in_common:]) - 2"
   ]
  },
  {
   "cell_type": "code",
   "execution_count": 37,
   "metadata": {},
   "outputs": [
    {
     "name": "stdout",
     "output_type": "stream",
     "text": [
      "Finding tests in NoName\n",
      "Trying:\n",
      "    orbit_count_checksum('COM)B\\nB)C\\nC)D')\n",
      "Expecting:\n",
      "    6\n",
      "ok\n"
     ]
    }
   ],
   "source": [
    "# Run unit tests\n",
    "doctest.run_docstring_examples(orbit_count_checksum, globs=None, verbose=True)"
   ]
  },
  {
   "cell_type": "code",
   "execution_count": 38,
   "metadata": {},
   "outputs": [],
   "source": [
    "# Integration test:\n",
    "test_map = \"\"\"\n",
    "COM)B\n",
    "B)C\n",
    "C)D\n",
    "D)E\n",
    "E)F\n",
    "B)G\n",
    "G)H\n",
    "D)I\n",
    "E)J\n",
    "J)K\n",
    "K)L\n",
    "\"\"\"\n",
    "assert orbit_count_checksum(test_map) == 42"
   ]
  },
  {
   "cell_type": "code",
   "execution_count": 60,
   "metadata": {},
   "outputs": [
    {
     "name": "stdout",
     "output_type": "stream",
     "text": [
      "['D', 'E', 'J', 'K', 'YOU']\n",
      "['D', 'I', 'SAN']\n"
     ]
    }
   ],
   "source": [
    "# Integration test:\n",
    "test_map = \"\"\"\n",
    "COM)B\n",
    "B)C\n",
    "C)D\n",
    "D)E\n",
    "E)F\n",
    "B)G\n",
    "G)H\n",
    "D)I\n",
    "E)J\n",
    "J)K\n",
    "K)L\n",
    "K)YOU\n",
    "I)SAN\n",
    "\"\"\"\n",
    "assert num_orbital_transfers(test_map) == 4"
   ]
  },
  {
   "cell_type": "code",
   "execution_count": 62,
   "metadata": {},
   "outputs": [
    {
     "name": "stdout",
     "output_type": "stream",
     "text": [
      "Part 1:  119831\n",
      "Part 2:  322\n"
     ]
    }
   ],
   "source": [
    "# Final answers\n",
    "with open('day6_input.txt') as f:\n",
    "    map = f.read()\n",
    "    print('Part 1: ', orbit_count_checksum(map))\n",
    "    print('Part 2: ', num_orbital_transfers(map))"
   ]
  },
  {
   "cell_type": "code",
   "execution_count": null,
   "metadata": {},
   "outputs": [],
   "source": []
  }
 ],
 "metadata": {
  "kernelspec": {
   "display_name": "Python 3",
   "language": "python",
   "name": "python3"
  },
  "language_info": {
   "codemirror_mode": {
    "name": "ipython",
    "version": 3
   },
   "file_extension": ".py",
   "mimetype": "text/x-python",
   "name": "python",
   "nbconvert_exporter": "python",
   "pygments_lexer": "ipython3",
   "version": "3.7.3"
  }
 },
 "nbformat": 4,
 "nbformat_minor": 2
}
