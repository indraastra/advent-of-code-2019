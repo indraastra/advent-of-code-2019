{
 "cells": [
  {
   "cell_type": "markdown",
   "metadata": {},
   "source": [
    "# Common imports & library functions"
   ]
  },
  {
   "cell_type": "code",
   "execution_count": 1,
   "metadata": {},
   "outputs": [],
   "source": [
    "import doctest\n",
    "import itertools\n",
    "import math\n",
    "from collections import defaultdict"
   ]
  },
  {
   "cell_type": "markdown",
   "metadata": {},
   "source": [
    "# Day 6: Universal Orbit Map"
   ]
  },
  {
   "cell_type": "code",
   "execution_count": 61,
   "metadata": {},
   "outputs": [],
   "source": [
    "COM = 'COM'\n",
    "YOU = 'YOU'\n",
    "SAN = 'SAN'\n",
    "\n",
    "def orbit_count_checksum(map):\n",
    "    \"\"\"\n",
    "    >>> orbit_count_checksum('COM)B\\\\nB)C\\\\nC)D')\n",
    "    6\n",
    "    \"\"\"\n",
    "    children = defaultdict(set)\n",
    "    for edge in map.split():\n",
    "        p, c = edge.split(')')\n",
    "        children[p].add(c)\n",
    "    levels = {COM: 0}\n",
    "    to_visit = {COM}\n",
    "    while to_visit:\n",
    "        p = to_visit.pop()\n",
    "        for c in children[p]:\n",
    "            levels[c] = levels[p] + 1\n",
    "            to_visit.add(c)\n",
    "    return sum(levels.values())\n",
    "\n",
    "def num_orbital_transfers(map, source=YOU, target=SAN):\n",
    "    parents = {COM: None}\n",
    "    for edge in map.split():\n",
    "        p, c = edge.split(')')\n",
    "        parents[c] = p\n",
    "    def path_to(node):\n",
    "        if not node:\n",
    "            return []\n",
    "        return path_to(parents[node]) + [node]\n",
    "    source_path = path_to(source)\n",
    "    target_path = path_to(target)\n",
    "    in_common = len(list(itertools.takewhile(\n",
    "        lambda p: p[0] == p[1], zip(source_path, target_path))))\n",
    "    return len(source_path[in_common:]) + len(target_path[in_common:]) - 2"
   ]
  },
  {
   "cell_type": "code",
   "execution_count": 37,
   "metadata": {},
   "outputs": [
    {
     "name": "stdout",
     "output_type": "stream",
     "text": [
      "Finding tests in NoName\n",
      "Trying:\n",
      "    orbit_count_checksum('COM)B\\nB)C\\nC)D')\n",
      "Expecting:\n",
      "    6\n",
      "ok\n"
     ]
    }
   ],
   "source": [
    "# Run unit tests\n",
    "doctest.run_docstring_examples(orbit_count_checksum, globs=None, verbose=True)"
   ]
  },
  {
   "cell_type": "code",
   "execution_count": 38,
   "metadata": {},
   "outputs": [],
   "source": [
    "# Integration test:\n",
    "test_map = \"\"\"\n",
    "COM)B\n",
    "B)C\n",
    "C)D\n",
    "D)E\n",
    "E)F\n",
    "B)G\n",
    "G)H\n",
    "D)I\n",
    "E)J\n",
    "J)K\n",
    "K)L\n",
    "\"\"\"\n",
    "assert orbit_count_checksum(test_map) == 42"
   ]
  },
  {
   "cell_type": "code",
   "execution_count": 60,
   "metadata": {},
   "outputs": [
    {
     "name": "stdout",
     "output_type": "stream",
     "text": [
      "['D', 'E', 'J', 'K', 'YOU']\n",
      "['D', 'I', 'SAN']\n"
     ]
    }
   ],
   "source": [
    "# Integration test:\n",
    "test_map = \"\"\"\n",
    "COM)B\n",
    "B)C\n",
    "C)D\n",
    "D)E\n",
    "E)F\n",
    "B)G\n",
    "G)H\n",
    "D)I\n",
    "E)J\n",
    "J)K\n",
    "K)L\n",
    "K)YOU\n",
    "I)SAN\n",
    "\"\"\"\n",
    "assert num_orbital_transfers(test_map) == 4"
   ]
  },
  {
   "cell_type": "code",
   "execution_count": 62,
   "metadata": {},
   "outputs": [
    {
     "name": "stdout",
     "output_type": "stream",
     "text": [
      "Part 1:  119831\n",
      "Part 2:  322\n"
     ]
    }
   ],
   "source": [
    "# Final answers\n",
    "with open('day6_input.txt') as f:\n",
    "    map = f.read()\n",
    "    print('Part 1: ', orbit_count_checksum(map))\n",
    "    print('Part 2: ', num_orbital_transfers(map))"
   ]
  },
  {
   "cell_type": "markdown",
   "metadata": {},
   "source": [
    "# Day 7: Amplification Circuit"
   ]
  },
  {
   "cell_type": "code",
   "execution_count": 46,
   "metadata": {},
   "outputs": [],
   "source": [
    "import asyncio\n",
    "import intcode\n",
    "\n",
    "import imp\n",
    "import itertools"
   ]
  },
  {
   "cell_type": "code",
   "execution_count": 149,
   "metadata": {},
   "outputs": [
    {
     "data": {
      "text/plain": [
       "<module 'intcode' from 'D:\\\\My Library\\\\Documents\\\\GitHub\\\\advent-of-code-2019\\\\intcode.py'>"
      ]
     },
     "execution_count": 149,
     "metadata": {},
     "output_type": "execute_result"
    }
   ],
   "source": [
    "imp.reload(intcode)"
   ]
  },
  {
   "cell_type": "code",
   "execution_count": 75,
   "metadata": {},
   "outputs": [],
   "source": [
    "import dataclasses\n",
    "from typing import List\n",
    "\n",
    "@dataclasses.dataclass\n",
    "class Amp:\n",
    "    mem: List[int]\n",
    "    iq: asyncio.Queue\n",
    "    oq: asyncio.Queue\n",
    "    halted: bool = False\n",
    "\n",
    "def make_amp(amp_controller_code, inputs, iq=None, oq=None):\n",
    "    iq = iq or asyncio.Queue()\n",
    "    oq = oq or asyncio.Queue()\n",
    "    amp = Amp(amp_controller_code, iq, oq)\n",
    "    for i in inputs:\n",
    "        amp.iq.put_nowait(i)\n",
    "    return amp\n",
    "\n",
    "async def run_amp(amp):\n",
    "    while True:\n",
    "        _, ip = await execute(amp.mem, input=amp.iq.get, output=amp.oq.put_nowait)\n",
    "        if ip == -1:\n",
    "            amp.halted = True\n",
    "            break\n",
    "\n",
    "async def run_amp_system(amp_controller_code, phase_settings):\n",
    "    num_amps = len(phase_settings)\n",
    "    amps = []\n",
    "    input_queues = [asyncio.Queue() for _ in range(num_amps)]\n",
    "    output_queues = input_queues[1:] + input_queues[0:1]\n",
    "    for i, phase in enumerate(phase_settings):\n",
    "        amps.append(make_amp(amp_controller_code, [phase], iq=input_queues[i], oq=output_queues[i]))\n",
    "    \n",
    "    amps[0].iq.put_nowait(0)\n",
    "    tasks = [asyncio.create_task(run_amp_with_feedback(amp)) for amp in amps]\n",
    "    await asyncio.gather(*tasks)\n",
    "    return await amps[0].iq.get()\n",
    "\n",
    "async def find_best_phase_settings(amp_controller_code, with_feedback=False):\n",
    "    phase_range = range(5, 10) if with_feedback else range(5)\n",
    "    phase_settings = itertools.permutations(phase_range)\n",
    "    outputs = await asyncio.gather(*(run_amp_system(amp_controller_code, phase_setting)\n",
    "                                     for phase_setting in phase_settings))\n",
    "    return max(outputs)"
   ]
  },
  {
   "cell_type": "code",
   "execution_count": 67,
   "metadata": {},
   "outputs": [
    {
     "data": {
      "text/plain": [
       "True"
      ]
     },
     "execution_count": 67,
     "metadata": {},
     "output_type": "execute_result"
    }
   ],
   "source": [
    "# Run unit tests\n",
    "await run_amp_system_with_feedback([3,15,3,16,1002,16,10,16,1,16,15,15,4,15,99,0,0], [4,3,2,1,0]) == 43210\n",
    "await run_amp_system_with_feedback([3,23,3,24,1002,24,10,24,1002,23,-1,23,101,5,23,23,1,24,23,23,4,23,99,0,0], [0,1,2,3,4]) == 54321\n",
    "await run_amp_system_with_feedback([3,26,1001,26,-4,26,3,27,1002,27,2,27,1,27,26,27,4,27,1001,28,-1,28,1005,28,6,99,0,0,5], [9,8,7,6,5]) == 139629729\n",
    "await run_amp_system_with_feedback([3,52,1001,52,-5,52,3,53,1,52,56,54,1007,54,5,55,1005,55,26,1001,54,\n",
    "                                    -5,54,1105,1,12,1,53,54,53,1008,54,0,55,1001,55,1,55,2,53,55,53,4,\n",
    "                                    53,1001,56,-1,56,1005,56,6,99,0,0,0,0,10], [9,7,8,5,6]) == 18216    "
   ]
  },
  {
   "cell_type": "code",
   "execution_count": 77,
   "metadata": {},
   "outputs": [
    {
     "name": "stdout",
     "output_type": "stream",
     "text": [
      "Part 1:  43812\n",
      "Part 2:  59597414\n"
     ]
    }
   ],
   "source": [
    "# Final answers\n",
    "with open('day7_input.txt') as f:\n",
    "    amp_controller_code = intcode.parse_program(f.read())\n",
    "    print('Part 1: ', await find_best_phase_settings(amp_controller_code))\n",
    "    print('Part 2: ', await find_best_phase_settings(amp_controller_code, with_feedback=True))"
   ]
  },
  {
   "cell_type": "markdown",
   "metadata": {},
   "source": [
    "# Day 8: Space Image Format"
   ]
  },
  {
   "cell_type": "code",
   "execution_count": 114,
   "metadata": {},
   "outputs": [],
   "source": [
    "import dataclasses\n",
    "from typing import List\n",
    "\n",
    "Layer = str\n",
    "\n",
    "@dataclasses.dataclass\n",
    "class Image:\n",
    "    layers: List[Layer]\n",
    "    width: int\n",
    "    height: int\n",
    "\n",
    "def parse_image(raw_image, width, height):\n",
    "    \"\"\"\n",
    "    >>> parse_image('123456789012', 3, 2)\n",
    "    Image(layers=['123456', '789012'], width=3, height=2)\n",
    "    \"\"\"\n",
    "    raw_image = raw_image.strip()\n",
    "    layer_size = width * height\n",
    "    assert len(raw_image) % layer_size == 0\n",
    "    return Image(layers=[raw_image[i:i+layer_size]\n",
    "                         for i in range(0, len(raw_image), layer_size)],\n",
    "                 width=width,\n",
    "                 height=height)\n",
    "\n",
    "def render_layer(layer, width, height):\n",
    "    \"\"\"\n",
    "    >>> render_layer('123456', 3, 2)\n",
    "    123\n",
    "    456\n",
    "    \"\"\"\n",
    "    for i in range(0, len(layer), width):\n",
    "        print(layer[i:i+width])\n",
    "\n",
    "def render_image(image):\n",
    "    \"\"\"\n",
    "    >>> render_image(parse_image('123456789012', 3, 2))\n",
    "    Layer 1:\n",
    "    # 3\n",
    "    456\n",
    "    Layer 2:\n",
    "    789\n",
    "    .# \n",
    "    \"\"\"\n",
    "    for i, layer in enumerate(image.layers):\n",
    "        print(f'Layer {i+1}:')\n",
    "        layer = layer.replace('0', '.').replace('1', '#').replace('2', ' ')\n",
    "        render_layer(layer, image.width, image.height)\n",
    "\n",
    "def first_opaque_pixel(raw_pixels):\n",
    "    \"\"\"\n",
    "    >>> first_opaque_pixel('2221')\n",
    "    '1'\n",
    "    >>> first_opaque_pixel('0222')\n",
    "    '0'\n",
    "    >>> first_opaque_pixel('222')\n",
    "    \"\"\"\n",
    "    return next(itertools.dropwhile(lambda p: p == '2', raw_pixels), None)\n",
    "        \n",
    "def flatten_image(image):\n",
    "    \"\"\"\n",
    "    >>> image = parse_image('0222112222120000', 2, 2)\n",
    "    >>> flatten_image(image)\n",
    "    Image(layers=['0110'], width=2, height=2)\n",
    "    \"\"\"\n",
    "    layer = [first_opaque_pixel(pixels)\n",
    "             for pixels in zip(*image.layers)]\n",
    "    return Image(layers=[''.join(layer)], width=image.width, height=image.height)\n",
    "    \n",
    "def corruption_test_part_1(image):\n",
    "    layer = min(image.layers, key=lambda l: l.count('0'))\n",
    "    return layer.count('1') * layer.count('2')"
   ]
  },
  {
   "cell_type": "code",
   "execution_count": 115,
   "metadata": {},
   "outputs": [
    {
     "name": "stdout",
     "output_type": "stream",
     "text": [
      "Finding tests in NoName\n",
      "Trying:\n",
      "    parse_image('123456789012', 3, 2)\n",
      "Expecting:\n",
      "    Image(layers=['123456', '789012'], width=3, height=2)\n",
      "ok\n",
      "Finding tests in NoName\n",
      "Trying:\n",
      "    render_layer('123456', 3, 2)\n",
      "Expecting:\n",
      "    123\n",
      "    456\n",
      "ok\n",
      "Finding tests in NoName\n",
      "Trying:\n",
      "    render_image(parse_image('123456789012', 3, 2))\n",
      "Expecting:\n",
      "    Layer 1:\n",
      "    # 3\n",
      "    456\n",
      "    Layer 2:\n",
      "    789\n",
      "    .# \n",
      "ok\n",
      "Finding tests in NoName\n",
      "Trying:\n",
      "    first_opaque_pixel('2221')\n",
      "Expecting:\n",
      "    '1'\n",
      "ok\n",
      "Trying:\n",
      "    first_opaque_pixel('0222')\n",
      "Expecting:\n",
      "    '0'\n",
      "ok\n",
      "Trying:\n",
      "    first_opaque_pixel('222')\n",
      "Expecting nothing\n",
      "ok\n",
      "Finding tests in NoName\n",
      "Trying:\n",
      "    image = parse_image('0222112222120000', 2, 2)\n",
      "Expecting nothing\n",
      "ok\n",
      "Trying:\n",
      "    flatten_image(image)\n",
      "Expecting:\n",
      "    Image(layers=['0110'], width=2, height=2)\n",
      "ok\n"
     ]
    }
   ],
   "source": [
    "# Run unit tests\n",
    "doctest.run_docstring_examples(parse_image, globs=None, verbose=True)\n",
    "doctest.run_docstring_examples(render_layer, globs=None, verbose=True)\n",
    "doctest.run_docstring_examples(render_image, globs=None, verbose=True)\n",
    "doctest.run_docstring_examples(first_opaque_pixel, globs=None, verbose=True)\n",
    "doctest.run_docstring_examples(flatten_image, globs=None, verbose=True)"
   ]
  },
  {
   "cell_type": "code",
   "execution_count": 113,
   "metadata": {},
   "outputs": [
    {
     "name": "stdout",
     "output_type": "stream",
     "text": [
      "Part 1:  1441\n",
      "Part 2:\n",
      "Layer 1:\n",
      "###..#..#.####.###..###..\n",
      "#..#.#..#....#.#..#.#..#.\n",
      "#..#.#..#...#..###..#..#.\n",
      "###..#..#..#...#..#.###..\n",
      "#.#..#..#.#....#..#.#....\n",
      "#..#..##..####.###..#....\n"
     ]
    }
   ],
   "source": [
    "# Final answers\n",
    "with open('day8_input.txt') as f:\n",
    "    raw_image = f.read()\n",
    "    image = parse_image(raw_image, 25, 6)\n",
    "    print('Part 1: ', corruption_test_part_1(image))\n",
    "    print('Part 2:')\n",
    "    flattened = flatten_image(image)\n",
    "    render_image(flattened)"
   ]
  }
 ],
 "metadata": {
  "kernelspec": {
   "display_name": "Python 3",
   "language": "python",
   "name": "python3"
  },
  "language_info": {
   "codemirror_mode": {
    "name": "ipython",
    "version": 3
   },
   "file_extension": ".py",
   "mimetype": "text/x-python",
   "name": "python",
   "nbconvert_exporter": "python",
   "pygments_lexer": "ipython3",
   "version": "3.8.3"
  }
 },
 "nbformat": 4,
 "nbformat_minor": 4
}
